{
 "cells": [
  {
   "cell_type": "markdown",
   "metadata": {},
   "source": [
    "# linear  regression\n",
    "In linear regression we Compute $ h(\\theta)=\\theta_0+\\theta_1 X_1 $ which is called forward pass this is done in order to know the predicted value of labels.We intialize parametes with random values $ \\theta_0=1,\\theta_1=1 $.We define a sqaure error loss function for linear regression $ J(\\theta)= 1/2\\sum_{i=1}^{m} (h_\\theta(x^i)-y^i)^2 $ and minimze it through $ \\frac{\\partial j(\\theta)}{\\partial \\theta_j)} =((h_\\theta(x)-y)x_j) $ and update new values of parameter using gradient descent $  \\theta_j=\\theta_j+\\alpha(y^i-h_\\theta(x))(x_j)^i $\n",
    "\n",
    "\n"
   ]
  },
  {
   "cell_type": "code",
   "execution_count": 8,
   "metadata": {},
   "outputs": [],
   "source": [
    "import numpy as np\n",
    "import pandas as pd\n",
    "import matplotlib.pyplot as plt\n"
   ]
  },
  {
   "cell_type": "code",
   "execution_count": 9,
   "metadata": {},
   "outputs": [
    {
     "name": "stdout",
     "output_type": "stream",
     "text": [
      "*** No CODEPAGE record, no encoding_override: will use 'ascii'\n"
     ]
    },
    {
     "data": {
      "image/png": "[encoded data removed]",
      "text/plain": [
       "<Figure size 432x288 with 1 Axes>"
      ]
     },
     "metadata": {},
     "output_type": "display_data"
    }
   ],
   "source": [
    "# Load Dataset \n",
    "df=pd.read_excel('D:/VIThink/Getting Started with Machine Learning/Data/fire_theft.xls')\n",
    "X_train,Y_train=np.array(df['X']),np.array(df['Y'])# X as fires per 1000 housing units Y_train as thefts per 1000 population\n",
    "# plot data points\n",
    "plt.scatter(X_train,Y_train)\n",
    "plt.xlabel('Fire', fontsize=18)\n",
    "plt.ylabel('Thefts', fontsize=18)\n",
    "plt.show()\n",
    "\n"
   ]
  },
  {
   "cell_type": "code",
   "execution_count": 10,
   "metadata": {},
   "outputs": [],
   "source": [
    "# forward pass \n",
    "def forward(theta_0,X,theta_1):\n",
    "   # compute forward pass (1 line)\n",
    "    return h_theta"
   ]
  },
  {
   "cell_type": "code",
   "execution_count": null,
   "metadata": {},
   "outputs": [],
   "source": [
    "# intialize parameters \n",
    "theta_1,theta_0=0,1\n",
    "cost=0\n",
    "alpha=0.1"
   ]
  },
  {
   "cell_type": "code",
   "execution_count": null,
   "metadata": {},
   "outputs": [],
   "source": [
    "# function to optimize loss function and return updated weights and loss\n",
    "def optimize(X_train,Y_train,theta_1,alpha,theta_0,cost):\n",
    "    loss_all=[]\n",
    "    for i in range(0,len(X_train)):\n",
    "        #Update theta(2lines)\n",
    "       \n",
    "        #compute loss(1 line)\n",
    "        #print loss (1line)\n",
    "        print(\"loss\"+str(i),loss)\n",
    "       \n",
    "    #compute cost\n",
    "   \n",
    "    return new_theta_1,loss_all,cost"
   ]
  },
  {
   "cell_type": "code",
   "execution_count": null,
   "metadata": {},
   "outputs": [],
   "source": [
    "theta_1,loss,cost=optimize(X_train,Y_train,theta_1,alpha,theta_0,cost)\n",
    "print(\"cost\",cost)\n"
   ]
  },
  {
   "cell_type": "code",
   "execution_count": null,
   "metadata": {},
   "outputs": [],
   "source": [
    "# plot loss\n",
    "plt.plot(l[0:len(l)], 'ro-')"
   ]
  },
  {
   "cell_type": "code",
   "execution_count": null,
   "metadata": {},
   "outputs": [],
   "source": [
    "# Make Predictions\n",
    "h_theta=[]\n",
    "for i in X_train:\n",
    "    h_theta.append(theta_1*i+theta_0)"
   ]
  },
  {
   "cell_type": "code",
   "execution_count": null,
   "metadata": {},
   "outputs": [],
   "source": [
    "# plot Line\n",
    "plt.plot(X_train[0:len(X_train)], h_theta[0:len(h_theta)], 'ro-')\n",
    "plt.scatter(X_train,Y_train)"
   ]
  },
  {
   "cell_type": "code",
   "execution_count": null,
   "metadata": {},
   "outputs": [],
   "source": []
  }
 ],
 "metadata": {
  "kernelspec": {
   "display_name": "Python 3",
   "language": "python",
   "name": "python3"
  },
  "language_info": {
   "codemirror_mode": {
    "name": "ipython",
    "version": 3
   },
   "file_extension": ".py",
   "mimetype": "text/x-python",
   "name": "python",
   "nbconvert_exporter": "python",
   "pygments_lexer": "ipython3",
   "version": "3.5.0"
  }
 },
 "nbformat": 4,
 "nbformat_minor": 2
}
