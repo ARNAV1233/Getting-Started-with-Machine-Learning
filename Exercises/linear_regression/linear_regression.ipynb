{
 "cells": [
  {
   "cell_type": "markdown",
   "metadata": {},
   "source": [
    "# Linear  Regression\n",
    "In linear regression we compute $ h(\\theta)=\\theta_0+\\theta_1 X_1 $ which is called forward pass. This is done in order to know the predicted value of labels. We initialize parameters with some values $ \\theta_0=1 $, $\\theta_1=1 $. We define a square error loss function for linear regression $ J(\\theta)= 1/2\\sum_{i=1}^{m} (h_\\theta(x^i)-y^i)^2 $ and minimize it through $ \\frac{\\partial j(\\theta)}{\\partial \\theta_j)} =((h_\\theta(x)-y)x_j) $ and update new values of parameters using gradient descent $  \\theta_j=\\theta_j+\\alpha(y^i-h_\\theta(x))(x_j)^i $\n",
    "\n",
    "\n",
    "\n",
    "Note: $\\theta_0$ is bias and $\\theta_1$ is weight.\n"
   ]
  },
  {
   "cell_type": "code",
   "execution_count": null,
   "metadata": {},
   "outputs": [],
   "source": [
    "import numpy as np\n",
    "import pandas as pd\n",
    "import matplotlib.pyplot as plt"
   ]
  },
  {
   "cell_type": "code",
   "execution_count": null,
   "metadata": {},
   "outputs": [],
   "source": [
    "# Load Dataset \n",
    "df = pd.read_excel('../../Data/fire_theft.xls')\n",
    "# X is fires per 1000 housing units \n",
    "# Y_train as thefts per 1000 population\n",
    "X_train, Y_train = np.array(df['X']), np.array(df['Y'])   \n",
    "# plot data points\n",
    "plt.scatter(X_train,Y_train)\n",
    "plt.xlabel('Fire', fontsize=18)\n",
    "plt.ylabel('Thefts', fontsize=18)\n",
    "plt.show()"
   ]
  },
  {
   "cell_type": "code",
   "execution_count": null,
   "metadata": {},
   "outputs": [],
   "source": [
    "# forward pass \n",
    "def forward(theta_0, X, theta_1):\n",
    "   # compute forward pass (1 line)\n",
    "    return h_theta"
   ]
  },
  {
   "cell_type": "code",
   "execution_count": null,
   "metadata": {},
   "outputs": [],
   "source": [
    "# initialize parameters \n",
    "theta_1, theta_0 = 0, 1\n",
    "cost=0\n",
    "alpha=0.1"
   ]
  },
  {
   "cell_type": "code",
   "execution_count": null,
   "metadata": {},
   "outputs": [],
   "source": [
    "# function to optimize loss function and return updated weights and loss\n",
    "def optimize(X_train,Y_train,theta_1,alpha,theta_0,cost):\n",
    "    loss_all=[]\n",
    "    for i in range(0,len(X_train)):\n",
    "        # update theta(4 lines)\n",
    "       \n",
    "        # compute loss(1 line)\n",
    "        # print loss (1 line)\n",
    "        print(\"loss\"+str(i), loss)\n",
    "       \n",
    "    #compute cost\n",
    "    return new_theta_0,new_theta_1,loss_all,cost"
   ]
  },
  {
   "cell_type": "code",
   "execution_count": null,
   "metadata": {},
   "outputs": [],
   "source": [
    "theta_0,theta_1,loss,cost = optimize(X_train,Y_train,theta_1,alpha,theta_0,cost)\n",
    "print(\"cost\", cost)"
   ]
  },
  {
   "cell_type": "code",
   "execution_count": null,
   "metadata": {},
   "outputs": [],
   "source": [
    "# plot loss\n",
    "plt.plot(loss[0:len(loss)], 'ro-')"
   ]
  },
  {
   "cell_type": "code",
   "execution_count": null,
   "metadata": {},
   "outputs": [],
   "source": [
    "# make predictions\n",
    "h_theta=[]\n",
    "for i in X_train:\n",
    "    h_theta.append(theta_1*i+theta_0)"
   ]
  },
  {
   "cell_type": "code",
   "execution_count": null,
   "metadata": {},
   "outputs": [],
   "source": [
    "# plot line\n",
    "plt.plot(X_train[0:len(X_train)], h_theta[0:len(h_theta)], 'ro-')\n",
    "plt.scatter(X_train,Y_train)"
   ]
  }
 ],
 "metadata": {
  "kernelspec": {
   "display_name": "Python 3",
   "language": "python",
   "name": "python3"
  },
  "language_info": {
   "codemirror_mode": {
    "name": "ipython",
    "version": 3
   },
   "file_extension": ".py",
   "mimetype": "text/x-python",
   "name": "python",
   "nbconvert_exporter": "python",
   "pygments_lexer": "ipython3",
   "version": "3.5.0"
  }
 },
 "nbformat": 4,
 "nbformat_minor": 2
}
