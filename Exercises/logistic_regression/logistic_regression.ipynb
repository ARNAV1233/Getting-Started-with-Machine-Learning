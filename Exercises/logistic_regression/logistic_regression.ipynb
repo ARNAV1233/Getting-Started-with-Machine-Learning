{
 "cells": [
  {
   "cell_type": "code",
   "execution_count": 1,
   "metadata": {},
   "outputs": [],
   "source": [
    "# Import required dependencies\n",
    "import pandas as pd\n",
    "import numpy as np\n",
    "import matplotlib.pyplot as plt\n",
    "import scipy.optimize as op"
   ]
  },
  {
   "cell_type": "code",
   "execution_count": 2,
   "metadata": {},
   "outputs": [
    {
     "data": {
      "image/png": "[encoded data removed]",
      "text/plain": [
       "<matplotlib.figure.Figure at 0x1a43effe6a0>"
      ]
     },
     "metadata": {},
     "output_type": "display_data"
    }
   ],
   "source": [
    "# Load and visualise data\n",
    "data = pd.read_csv('Chips.csv')\n",
    "#data = pd.read_csv('Logistic_eg1.csv')\n",
    "#data = pd.read_csv('Logistic_eg2.csv')\n",
    "\n",
    "QC_Passed_Mask = data.query('QC_OK==1')\n",
    "QC_Failed_Mask = data.query('QC_OK==0')\n",
    "\n",
    "plt.xlabel('Test 1')\n",
    "plt.ylabel('Test 2')\n",
    "plt.scatter(QC_Passed_Mask['Test 1'], QC_Passed_Mask['Test 2'], marker = '^', label = 'QC Passed')\n",
    "plt.scatter(QC_Failed_Mask['Test 1'], QC_Failed_Mask['Test 2'], marker = '*', label = 'QC Failed')\n",
    "plt.legend(loc = 1)\n",
    "\n",
    "plt.show()"
   ]
  },
  {
   "cell_type": "markdown",
   "metadata": {},
   "source": [
    "A function to create polynomial features. The same implementation can also be found in _sklearn.preprocessing.PolynomialFeatures_"
   ]
  },
  {
   "cell_type": "code",
   "execution_count": 3,
   "metadata": {},
   "outputs": [],
   "source": [
    "def map_features(data, deg = 6):\n",
    "    features = pd.DataFrame([1]*data.shape[0], columns=[0])\n",
    "    ctr = 1\n",
    "    for i in range(1, deg+1):\n",
    "        for j in range(i+1):\n",
    "            temp = data[:,0]**(i-j)*(data[:,1]**j)\n",
    "            try:\n",
    "                features[ctr] = temp.values\n",
    "            except AttributeError:\n",
    "                features[ctr] = temp\n",
    "            ctr += 1\n",
    "    return features"
   ]
  },
  {
   "cell_type": "code",
   "execution_count": 4,
   "metadata": {},
   "outputs": [
    {
     "data": {
      "text/plain": [
       "array([0., 0., 0., 0., 0., 0., 0., 0., 0., 0., 0., 0., 0., 0., 0., 0., 0.,\n",
       "       0., 0., 0., 0., 0., 0., 0., 0., 0., 0., 0.])"
      ]
     },
     "execution_count": 4,
     "metadata": {},
     "output_type": "execute_result"
    }
   ],
   "source": [
    "Y = np.array(data.QC_OK)\n",
    "X = np.array(data.drop('QC_OK', axis = 1))\n",
    "lam = 0\n",
    "x = map_features(X)\n",
    "initial_theta = np.zeros(x.shape[1])\n",
    "initial_theta"
   ]
  },
  {
   "cell_type": "code",
   "execution_count": 5,
   "metadata": {},
   "outputs": [],
   "source": [
    "def draw(X, theta, accuracy, lam):\n",
    "    plt.scatter(QC_Passed_Mask['Test 1'], QC_Passed_Mask['Test 2'], marker = '^', label = 'QC Passed')\n",
    "    plt.scatter(QC_Failed_Mask['Test 1'], QC_Failed_Mask['Test 2'], marker = '*', label = 'QC Failed')\n",
    "    plt.legend(loc = 1)\n",
    "    x1_min, x1_max = X[:,0].min(), X[:,0].max(),\n",
    "    x2_min, x2_max = X[:,1].min(), X[:,1].max(),\n",
    "    xx1, xx2 = np.meshgrid(np.linspace(x1_min, x1_max), np.linspace(x2_min, x2_max))\n",
    "    h = sigmoid(mapF(np.c_[xx1.ravel(), xx2.ravel()]).dot(theta))\n",
    "    h = h.values.reshape(xx1.shape)\n",
    "    plt.contour(xx1, xx2, h, [0.5], linewidths=1, colors='g');       \n",
    "    plt.title('Train accuracy {}% with Lambda = {}'.format(np.round(accuracy, decimals=2), lam))\n",
    "    plt.show()"
   ]
  },
  {
   "cell_type": "markdown",
   "metadata": {},
   "source": [
    "The sigmoid function is defined as:\n",
    "$ \\frac{1}{1-e^{-x}}$"
   ]
  },
  {
   "cell_type": "code",
   "execution_count": 6,
   "metadata": {},
   "outputs": [],
   "source": [
    "def sigmoid(x):\n",
    "    '''\n",
    "    Your code here.\n",
    "    '''\n",
    "    return ans"
   ]
  },
  {
   "cell_type": "markdown",
   "metadata": {},
   "source": [
    "Use the funtion below to test your sigmoid function."
   ]
  },
  {
   "cell_type": "code",
   "execution_count": null,
   "metadata": {},
   "outputs": [],
   "source": [
    "def draw_sigmoid():\n",
    "    x = np.linspace(-10, 10)\n",
    "    y = sigmoid(x)\n",
    "    plt.plot(x, y)\n",
    "    plt.show()\n",
    "draw_sigmoid()"
   ]
  },
  {
   "cell_type": "markdown",
   "metadata": {},
   "source": [
    "The regularized cost function for logistic regression is defined as:\n",
    "$J(\\theta) = \\frac{1}{m} \\sum_{i=1}^{m}[-y^{(i)}log*(h_\\theta(x^{(i)})) - (1-y^{(i)})*log(1-h_\\theta(x^{(i)}))] + \\frac{\\lambda}{2m}\\sum_{j=1}^{n}\\theta^2_j$ and we already know, for logistic regression, $h_\\theta(x) = \\frac{1}{1-e^-{\\theta^Tx}}$"
   ]
  },
  {
   "cell_type": "code",
   "execution_count": 7,
   "metadata": {},
   "outputs": [],
   "source": [
    "def cost_function(theta, lam, X, y):\n",
    "    '''\n",
    "    Your code here.\n",
    "    '''\n",
    "    return cost"
   ]
  },
  {
   "cell_type": "markdown",
   "metadata": {},
   "source": [
    "To calculate the gradient, the $\\theta's$, we use the following formulae. Don't get intimidated. Use a vectorized notation and you'll realise it's not that hard after all!\n",
    "$\\frac{\\delta{J}(\\theta)}{\\delta\\theta_0} = \\frac{1}{m}\\sum_{i=1}^{m}(h_\\theta(x^{(i)}) - y^{(i)}) x_j^{(i)}$ for $j = 0$ <br><br>\n",
    "$\\frac{\\delta{J}(\\theta)}{\\delta\\theta_0} = (\\frac{1}{m}\\sum_{i=1}^{m}(h_\\theta(x^{(i)}) - y^{(i)}) x_j^{(i)}) + \\frac{\\lambda}{m}$ for $j >= 1$"
   ]
  },
  {
   "cell_type": "code",
   "execution_count": 8,
   "metadata": {},
   "outputs": [],
   "source": [
    "def grad_calculate(theta, lam, X, y):\n",
    "    '''\n",
    "    Your code here.\n",
    "    '''\n",
    "    return theta"
   ]
  },
  {
   "cell_type": "markdown",
   "metadata": {},
   "source": [
    "To predict, we use the hypothesis function $H_\\theta(x) = \\frac {1}{1 - e^{-\\theta^TX}}$. This function gives us values between 0 and 1. Hence, we can choose our own threshold to decide if a particular set of values provide a positive output. The default threshold has been set to 0.5."
   ]
  },
  {
   "cell_type": "code",
   "execution_count": 9,
   "metadata": {},
   "outputs": [],
   "source": [
    "def predict(theta, x, threshold = 0.5):\n",
    "    '''\n",
    "    Your code here.\n",
    "    '''\n",
    "    return y"
   ]
  },
  {
   "cell_type": "markdown",
   "metadata": {},
   "source": [
    "The last function we will write is a simple accuracy calculator. "
   ]
  },
  {
   "cell_type": "code",
   "execution_count": 10,
   "metadata": {},
   "outputs": [],
   "source": [
    "def find_accuracy(y_dash, y):\n",
    "    '''\n",
    "    Your code here.\n",
    "    '''\n",
    "    return accuracy"
   ]
  },
  {
   "cell_type": "markdown",
   "metadata": {},
   "source": [
    "After playing around with a few values of theta, we will now let the pros handle the optimization. The function below uses the _Truncated Newton method_ to find the optimal values of theta."
   ]
  },
  {
   "cell_type": "code",
   "execution_count": null,
   "metadata": {},
   "outputs": [],
   "source": [
    "Result = op.minimize(fun = cost_function, x0 = initial_theta, args = (lam, x, Y), method = 'TNC', jac = grad_calculate)\n",
    "theta = Result.x"
   ]
  },
  {
   "cell_type": "markdown",
   "metadata": {},
   "source": [
    "Once we find the optimal theta values, let us use these values to predict the output using our dataset."
   ]
  },
  {
   "cell_type": "code",
   "execution_count": null,
   "metadata": {},
   "outputs": [],
   "source": [
    "y_dash = predict(theta, x)\n",
    "accuracy = find_accuracy(y_dash, y)\n",
    "\n",
    "draw(X, theta, accuracy, lam)"
   ]
  }
 ],
 "metadata": {
  "kernelspec": {
   "display_name": "Python 3",
   "language": "python",
   "name": "python3"
  },
  "language_info": {
   "codemirror_mode": {
    "name": "ipython",
    "version": 3
   },
   "file_extension": ".py",
   "mimetype": "text/x-python",
   "name": "python",
   "nbconvert_exporter": "python",
   "pygments_lexer": "ipython3",
   "version": "3.5.4"
  }
 },
 "nbformat": 4,
 "nbformat_minor": 2
}
