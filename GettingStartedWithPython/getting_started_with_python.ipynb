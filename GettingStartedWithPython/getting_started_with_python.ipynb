{
 "cells": [
  {
   "cell_type": "markdown",
   "metadata": {},
   "source": [
    "# An introduction to python coding\n",
    "\n",
    "### Packages to import."
   ]
  },
  {
   "cell_type": "code",
   "execution_count": 2,
   "metadata": {},
   "outputs": [],
   "source": [
    "import numpy as np\n",
    "import pandas as pd\n",
    "import matplotlib.pyplot as plt\n",
    "import scipy.optimize as op"
   ]
  },
  {
   "cell_type": "markdown",
   "metadata": {},
   "source": [
    "### **Loops** in python are described below. "
   ]
  },
  {
   "cell_type": "code",
   "execution_count": 16,
   "metadata": {},
   "outputs": [
    {
     "name": "stdout",
     "output_type": "stream",
     "text": [
      "0\n",
      "1\n",
      "2\n",
      "3\n",
      "4\n",
      "\n",
      "0\n",
      "1\n",
      "2\n",
      "3\n",
      "4\n",
      "\n",
      " 125\n"
     ]
    }
   ],
   "source": [
    "for i in range(0, 5):\n",
    "    print(i)\n",
    "\n",
    "print()    \n",
    "\n",
    "x = 0\n",
    "while(x < 5):\n",
    "    print(x)\n",
    "    x += 1\n",
    "    \n",
    "\n",
    "x = 5\n",
    "print('\\n', x ** 3)    # Use ** for powers."
   ]
  },
  {
   "cell_type": "markdown",
   "metadata": {},
   "source": [
    "### **Functions** in python are described below."
   ]
  },
  {
   "cell_type": "code",
   "execution_count": 3,
   "metadata": {},
   "outputs": [
    {
     "name": "stdout",
     "output_type": "stream",
     "text": [
      "Not prime\n"
     ]
    }
   ],
   "source": [
    "def is_prime(n):\n",
    "    num = n if n<9 else (int)(np.sqrt(n))\n",
    "    for i in range(2, num):\n",
    "        if(n%i==0):\n",
    "            print (\"Not prime\")\n",
    "            return\n",
    "    print(\"Prime\")\n",
    "    \n",
    "is_prime(87)     # Use any value to call the function and check if it works."
   ]
  },
  {
   "cell_type": "markdown",
   "metadata": {},
   "source": [
    "### **Plotting** in python."
   ]
  },
  {
   "cell_type": "code",
   "execution_count": 5,
   "metadata": {},
   "outputs": [
    {
     "data": {
      "image/png": "[encoded data removed]",
      "text/plain": [
       "<matplotlib.figure.Figure at 0x27490897160>"
      ]
     },
     "metadata": {},
     "output_type": "display_data"
    },
    {
     "name": "stdout",
     "output_type": "stream",
     "text": [
      "Shape of img:  (10, 10)\n"
     ]
    },
    {
     "data": {
      "image/png": "[encoded data removed]",
      "text/plain": [
       "<matplotlib.figure.Figure at 0x274929a5f60>"
      ]
     },
     "metadata": {},
     "output_type": "display_data"
    }
   ],
   "source": [
    "x = [np.random.randint(-5, 5) for i in range(10)]\n",
    "y = [i for i in range(10)]\n",
    "\n",
    "plt.scatter(x, y)\n",
    "plt.title(\"Graph\")\n",
    "plt.xlabel('X Axis')\n",
    "plt.ylabel('Y Axis')\n",
    "plt.show()\n",
    "\n",
    "img = np.random.randn(10,10)\n",
    "plt.imshow(img)\n",
    "print(\"Shape of img: \", img.shape)"
   ]
  },
  {
   "cell_type": "markdown",
   "metadata": {},
   "source": [
    "### **Pandas** the data scientists best friend."
   ]
  },
  {
   "cell_type": "code",
   "execution_count": 6,
   "metadata": {
    "scrolled": true
   },
   "outputs": [
    {
     "name": "stdout",
     "output_type": "stream",
     "text": [
      "   X  Y\n",
      "0  0  0\n",
      "1  1  1\n",
      "2  2  2\n",
      "\n",
      "     Test 1   Test 2  QC_OK\n",
      "0  0.051267  0.69956      1\n",
      "1 -0.092742  0.68494      1\n",
      "2 -0.213710  0.69225      1\n",
      "\n",
      "0    1\n",
      "1    1\n",
      "2    1\n",
      "Name: QC_OK, dtype: int64\n",
      "\n",
      "0    0.051267\n",
      "1   -0.092742\n",
      "2   -0.213710\n",
      "Name: Test 1, dtype: float64\n",
      "\n",
      "Test 1   -0.37500\n",
      "Test 2    0.50219\n",
      "QC_OK     1.00000\n",
      "Name: 3, dtype: float64\n",
      "\n",
      "     Test 1   Test 2  QC_OK\n",
      "0  0.051267  0.69956      1\n",
      "1 -0.092742  0.68494      1\n",
      "2 -0.213710  0.69225      1\n",
      "\n",
      "     Test 1   Test 2  QC_OK\n",
      "58  0.18376  0.93348      0\n",
      "59  0.22408  0.77997      0\n",
      "60  0.29896  0.61915      0\n",
      "\n",
      "     Test 1   Test 2\n",
      "0  0.051267  0.69956\n",
      "1 -0.092742  0.68494\n",
      "2 -0.213710  0.69225\n"
     ]
    }
   ],
   "source": [
    "data_frame1 = pd.DataFrame({'X': x, 'Y': y})    # Make a data frame with the data generated in the previous section.\n",
    "print(data_frame1.head(3), '\\n')    # array.head(n) prints the first n entries in the data frame.\n",
    "\n",
    "data_frame2 = pd.read_csv('Chips.csv')    # Simple function to read CSV data into a data frame.\n",
    "print(data_frame2.head(3))\n",
    "\n",
    "print()\n",
    "\n",
    "#Different indexing methods:\n",
    "print(data_frame2.QC_OK.head(3), '\\n')\n",
    "\n",
    "\n",
    "print(data_frame2['Test 1'].head(3), '\\n')\n",
    "\n",
    "\n",
    "print(data_frame2.iloc[3], '\\n')\n",
    "\n",
    "\n",
    "positive_mask = data_frame2.query(\"QC_OK == 1\")\n",
    "negative_mask = data_frame2.query(\"QC_OK == 0\")\n",
    "\n",
    "print(positive_mask.head(3), '\\n')\n",
    "print(negative_mask.head(3), '\\n')\n",
    "\n",
    "data_frame3 = data_frame2.drop('QC_OK', axis = 1)    # Drop the column named 'QC_OK'\n",
    "print(data_frame3.head(3))"
   ]
  },
  {
   "cell_type": "markdown",
   "metadata": {},
   "source": [
    "### A few important **numpy** methods."
   ]
  },
  {
   "cell_type": "code",
   "execution_count": 14,
   "metadata": {},
   "outputs": [
    {
     "name": "stdout",
     "output_type": "stream",
     "text": [
      "[[ -0.77535712  -0.81190534  -3.66159156  -3.50981828   0.53666653\n",
      "   -2.80300776  -0.81757996   0.41761857  -4.2133305    3.50823032]\n",
      " [  0.1579909    3.08965459   7.24676758   3.97565952   1.47628374\n",
      "    3.40004552   0.06193464  -2.46707905   1.6155076   -1.37983624]\n",
      " [ -5.46520879   2.01413313  -1.30176947  -2.70842672   0.42017842\n",
      "   -0.27451828   0.73012052   3.91528876   0.42759092  -2.15440776]\n",
      " [  2.7325941    1.44932486   0.67824589  -0.42385692   0.91851454\n",
      "    4.41243769  -0.09056892   3.46475568   0.3147672   -0.6929406 ]\n",
      " [  1.11044258  -1.92459828   1.52934884  -3.34134014   1.61617995\n",
      "    0.07051487   1.19225136   2.8074034   -1.90521756   0.62011038]\n",
      " [ -1.92110524   1.32015058   7.42866859   7.83744932  -0.12723909\n",
      "   -0.08210254  -0.14727984  -6.39227079   0.08832657  -1.97143472]\n",
      " [  4.50247339  -0.03898417  -4.10989475  -2.97936679  -1.2269098\n",
      "   -1.83328493   2.48631003  -0.30987714  -3.24565482  -0.29605414]\n",
      " [ -5.41412301  -1.67014544 -10.5950361    3.10705014  -0.43247333\n",
      "   -8.93835818  -0.83512907  -4.86794888 -10.83682569   1.98543168]\n",
      " [  3.15299643  -3.305968    -6.54349472  -1.43396518  -2.84450575\n",
      "   -6.73868966   2.08718152  -3.88626845  -3.90109763   0.84841694]\n",
      " [  2.20520191  -1.06640158  -6.537244    -4.00179903   1.6579294\n",
      "   -0.66078731   0.04023316   3.67426784  -2.46043191   4.60042252]] \n",
      "\n",
      "[[ -0.77535712  -0.81190534  -3.66159156  -3.50981828   0.53666653\n",
      "   -2.80300776  -0.81757996   0.41761857  -4.2133305    3.50823032]\n",
      " [  0.1579909    3.08965459   7.24676758   3.97565952   1.47628374\n",
      "    3.40004552   0.06193464  -2.46707905   1.6155076   -1.37983624]\n",
      " [ -5.46520879   2.01413313  -1.30176947  -2.70842672   0.42017842\n",
      "   -0.27451828   0.73012052   3.91528876   0.42759092  -2.15440776]\n",
      " [  2.7325941    1.44932486   0.67824589  -0.42385692   0.91851454\n",
      "    4.41243769  -0.09056892   3.46475568   0.3147672   -0.6929406 ]\n",
      " [  1.11044258  -1.92459828   1.52934884  -3.34134014   1.61617995\n",
      "    0.07051487   1.19225136   2.8074034   -1.90521756   0.62011038]\n",
      " [ -1.92110524   1.32015058   7.42866859   7.83744932  -0.12723909\n",
      "   -0.08210254  -0.14727984  -6.39227079   0.08832657  -1.97143472]\n",
      " [  4.50247339  -0.03898417  -4.10989475  -2.97936679  -1.2269098\n",
      "   -1.83328493   2.48631003  -0.30987714  -3.24565482  -0.29605414]\n",
      " [ -5.41412301  -1.67014544 -10.5950361    3.10705014  -0.43247333\n",
      "   -8.93835818  -0.83512907  -4.86794888 -10.83682569   1.98543168]\n",
      " [  3.15299643  -3.305968    -6.54349472  -1.43396518  -2.84450575\n",
      "   -6.73868966   2.08718152  -3.88626845  -3.90109763   0.84841694]\n",
      " [  2.20520191  -1.06640158  -6.537244    -4.00179903   1.6579294\n",
      "   -0.66078731   0.04023316   3.67426784  -2.46043191   4.60042252]] \n",
      "\n",
      "(10, 10) \n",
      "\n",
      "(5, 20) \n",
      "\n",
      "(100,) \n",
      "\n",
      "1.0 \n",
      "\n",
      "3.0 \n",
      "\n",
      "[[       nan        nan 0.71617596 0.99983478        nan 0.32893764\n",
      "         nan 0.86448405        nan        nan]\n",
      " [       nan 0.96806066 0.12073462 0.55441739 1.16723264 0.629883\n",
      "         nan        nan        nan 0.482952  ]\n",
      " [0.44279521 0.92745665 0.83423468 0.74085332 0.89878621        nan\n",
      "         nan 0.17059072 1.28049381        nan]\n",
      " [0.90600588 0.54562457 0.8654739         nan        nan        nan\n",
      "  1.05500731        nan        nan 0.40289461]\n",
      " [0.50111717        nan 0.69106734 0.93273869        nan        nan\n",
      "  0.36091953        nan        nan 1.10902576]\n",
      " [0.43532733 1.03880073        nan 0.73983517 1.20022048 0.62010495\n",
      "         nan        nan        nan 0.78387341]\n",
      " [       nan        nan 0.10425329        nan        nan        nan\n",
      "         nan        nan 0.62398601        nan]\n",
      " [       nan 0.86916756        nan 0.32103336        nan        nan\n",
      "         nan 1.39791702        nan        nan]\n",
      " [       nan        nan        nan 0.0770172         nan 0.72743422\n",
      "         nan        nan 0.65267488 0.2102065 ]\n",
      " [0.32481216 0.96875985 0.53432023 0.8725441         nan 0.83332462\n",
      "  0.85958383 0.50495777        nan        nan]] \n",
      "\n",
      "1 \n",
      "\n",
      "[[-1.12914055  0.06572581 -1.20481445  1.42764348 -1.15557879]\n",
      " [ 0.08418289  0.41985193  0.25189578 -0.57553732  0.24943052]\n",
      " [ 2.37733651 -0.42836691  0.12009819 -0.23279874  1.74044713]\n",
      " [-0.54228242 -0.62901585  1.28821921 -0.16656457 -0.10816082]\n",
      " [ 0.40040107  1.48082046 -0.0376842  -0.47464896 -0.87606243]] \n",
      "\n",
      "[[1 3]\n",
      " [2 4]] \n",
      "\n",
      "[[1 3]\n",
      " [2 4]]\n"
     ]
    },
    {
     "name": "stderr",
     "output_type": "stream",
     "text": [
      "c:\\program files\\python35\\lib\\site-packages\\ipykernel_launcher.py:18: RuntimeWarning: invalid value encountered in sqrt\n"
     ]
    }
   ],
   "source": [
    "M1 = np.random.randn(10, 10)    # Numpy.random.randn(a, b) creates an a*b matrix populated with random numbers.\n",
    "M2 = np.random.randn(10, 10)\n",
    "print(np.dot(M1, M2),'\\n')   # Perfroms dot product of the two matrices passed.\n",
    "print(M1.dot(M2), '\\n')\n",
    "print(M1.shape, '\\n')\n",
    "\n",
    "M3 = M1.reshape(5,20)    # Used to change the dimensions of matrices.\n",
    "print(M3.shape, '\\n')\n",
    "\n",
    "M4 = M3.ravel()    # Converts any shape matrix into a column matrix.\n",
    "print(M4.shape, '\\n')\n",
    "\n",
    "\n",
    "print(np.log(np.exp(1)), '\\n')# Find the natural log of the parameter passed.\n",
    "\n",
    "print(np.sqrt(9), '\\n')    # Find the square root of the parameter passed.\n",
    "\n",
    "print(np.sqrt(M1), '\\n')   # If a matrix is passed as the argunent, element wise square root is performed\n",
    "\n",
    "print(np.random.randint(-5, 5), '\\n')    # Provide one random number which lies in between the range specified.\n",
    "\n",
    "print(np.random.randn(5, 5), '\\n')    # Makes an array with the dimensions mentioned, filled with random numbers. \n",
    "\n",
    "M4 = np.array([[1,2],[3,4]])\n",
    "print(M4.T, '\\n')    # Transpose of a matrix.\n",
    "print(np.transpose(M4))"
   ]
  }
 ],
 "metadata": {
  "kernelspec": {
   "display_name": "Python 3",
   "language": "python",
   "name": "python3"
  },
  "language_info": {
   "codemirror_mode": {
    "name": "ipython",
    "version": 3
   },
   "file_extension": ".py",
   "mimetype": "text/x-python",
   "name": "python",
   "nbconvert_exporter": "python",
   "pygments_lexer": "ipython3",
   "version": "3.5.4"
  }
 },
 "nbformat": 4,
 "nbformat_minor": 2
}
