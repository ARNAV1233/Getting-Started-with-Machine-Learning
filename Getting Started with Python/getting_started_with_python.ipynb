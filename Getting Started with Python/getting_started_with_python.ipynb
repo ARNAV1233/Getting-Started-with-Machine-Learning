{
 "cells": [
  {
   "cell_type": "markdown",
   "metadata": {},
   "source": [
    "# An introduction to python coding\n",
    "\n",
    "### Packages to import."
   ]
  },
  {
   "cell_type": "code",
   "execution_count": 1,
   "metadata": {},
   "outputs": [],
   "source": [
    "import numpy as np\n",
    "import pandas as pd\n",
    "import matplotlib.pyplot as plt\n",
    "import scipy.optimize as op"
   ]
  },
  {
   "cell_type": "markdown",
   "metadata": {},
   "source": [
    "### **Loops** in python are described below. "
   ]
  },
  {
   "cell_type": "code",
   "execution_count": 2,
   "metadata": {},
   "outputs": [
    {
     "name": "stdout",
     "output_type": "stream",
     "text": [
      "0\n",
      "1\n",
      "2\n",
      "3\n",
      "4\n",
      "\n",
      "0\n",
      "1\n",
      "2\n",
      "3\n",
      "4\n"
     ]
    }
   ],
   "source": [
    "for i in range(0, 5):\n",
    "    print(i)\n",
    "\n",
    "print()    \n",
    "\n",
    "x = 0\n",
    "while(x < 5):\n",
    "    print(x)\n",
    "    x += 1"
   ]
  },
  {
   "cell_type": "markdown",
   "metadata": {},
   "source": [
    "### **Functions** in python are described below."
   ]
  },
  {
   "cell_type": "code",
   "execution_count": 3,
   "metadata": {},
   "outputs": [
    {
     "name": "stdout",
     "output_type": "stream",
     "text": [
      "Not prime\n"
     ]
    }
   ],
   "source": [
    "def is_prime(n):\n",
    "    num = n if n<9 else (int)(np.sqrt(n))\n",
    "    for i in range(2, num):\n",
    "        if(n%i==0):\n",
    "            print (\"Not prime\")\n",
    "            return\n",
    "    print(\"Prime\")\n",
    "    \n",
    "is_prime(87)     # Use any value to call the function and check if it works."
   ]
  },
  {
   "cell_type": "markdown",
   "metadata": {},
   "source": [
    "### **Plotting** in python."
   ]
  },
  {
   "cell_type": "code",
   "execution_count": 5,
   "metadata": {},
   "outputs": [
    {
     "data": {
      "image/png": "[encoded data removed]",
      "text/plain": [
       "<matplotlib.figure.Figure at 0x27490897160>"
      ]
     },
     "metadata": {},
     "output_type": "display_data"
    },
    {
     "name": "stdout",
     "output_type": "stream",
     "text": [
      "Shape of img:  (10, 10)\n"
     ]
    },
    {
     "data": {
      "image/png": "[encoded data removed]",
      "text/plain": [
       "<matplotlib.figure.Figure at 0x274929a5f60>"
      ]
     },
     "metadata": {},
     "output_type": "display_data"
    }
   ],
   "source": [
    "x = [np.random.randint(-5, 5) for i in range(10)]\n",
    "y = [i for i in range(10)]\n",
    "\n",
    "plt.scatter(x, y)\n",
    "plt.title(\"Graph\")\n",
    "plt.xlabel('X Axis')\n",
    "plt.ylabel('Y Axis')\n",
    "plt.show()\n",
    "\n",
    "img = np.random.randn(10,10)\n",
    "plt.imshow(img)\n",
    "print(\"Shape of img: \", img.shape)"
   ]
  },
  {
   "cell_type": "markdown",
   "metadata": {},
   "source": [
    "### **Pandas** the data scientists best friend."
   ]
  },
  {
   "cell_type": "code",
   "execution_count": 6,
   "metadata": {
    "scrolled": true
   },
   "outputs": [
    {
     "name": "stdout",
     "output_type": "stream",
     "text": [
      "   X  Y\n",
      "0  0  0\n",
      "1  1  1\n",
      "2  2  2\n",
      "\n",
      "     Test 1   Test 2  QC_OK\n",
      "0  0.051267  0.69956      1\n",
      "1 -0.092742  0.68494      1\n",
      "2 -0.213710  0.69225      1\n",
      "\n",
      "0    1\n",
      "1    1\n",
      "2    1\n",
      "Name: QC_OK, dtype: int64\n",
      "\n",
      "0    0.051267\n",
      "1   -0.092742\n",
      "2   -0.213710\n",
      "Name: Test 1, dtype: float64\n",
      "\n",
      "Test 1   -0.37500\n",
      "Test 2    0.50219\n",
      "QC_OK     1.00000\n",
      "Name: 3, dtype: float64\n",
      "\n",
      "     Test 1   Test 2  QC_OK\n",
      "0  0.051267  0.69956      1\n",
      "1 -0.092742  0.68494      1\n",
      "2 -0.213710  0.69225      1\n",
      "\n",
      "     Test 1   Test 2  QC_OK\n",
      "58  0.18376  0.93348      0\n",
      "59  0.22408  0.77997      0\n",
      "60  0.29896  0.61915      0\n",
      "\n",
      "     Test 1   Test 2\n",
      "0  0.051267  0.69956\n",
      "1 -0.092742  0.68494\n",
      "2 -0.213710  0.69225\n"
     ]
    }
   ],
   "source": [
    "data_frame1 = pd.DataFrame({'X': x, 'Y': y})    # Make a data frame with the data generated in the previous section.\n",
    "print(data_frame1.head(3))    # array.head(n) prints the first n entries in the data frame.\n",
    "\n",
    "print()\n",
    "\n",
    "data_frame2 = pd.read_csv('Chips.csv')    # Simple function to read CSV data into a data frame.\n",
    "print(data_frame2.head(3))\n",
    "\n",
    "print()\n",
    "\n",
    "#Different indexing methods:\n",
    "print(data_frame2.QC_OK.head(3))\n",
    "\n",
    "print()\n",
    "\n",
    "print(data_frame2['Test 1'].head(3))\n",
    "\n",
    "print()\n",
    "\n",
    "print(data_frame2.iloc[3])\n",
    "\n",
    "print()\n",
    "\n",
    "positive_mask = data_frame2.query(\"QC_OK == 1\")\n",
    "negative_mask = data_frame2.query(\"QC_OK == 0\")\n",
    "\n",
    "print(positive_mask.head(3))\n",
    "print()\n",
    "print(negative_mask.head(3))\n",
    "print()\n",
    "\n",
    "data_frame3 = data_frame2.drop('QC_OK', axis = 1)    # Drop the column named 'QC_OK'\n",
    "print(data_frame3.head(3))"
   ]
  },
  {
   "cell_type": "markdown",
   "metadata": {},
   "source": [
    "### A few important **numpy** methods."
   ]
  },
  {
   "cell_type": "code",
   "execution_count": 7,
   "metadata": {},
   "outputs": [
    {
     "name": "stdout",
     "output_type": "stream",
     "text": [
      "[[ -1.52009298   1.81759773  -0.46663222   0.85535392  -1.17829022\n",
      "    1.41211038  -0.46448114   1.41211827   4.70078039   1.09071573]\n",
      " [  1.47268575   0.20929825   3.17057715  -1.16088632  -4.51954617\n",
      "    0.10932716   2.71954785  -3.19052214   4.23238592   3.6702792 ]\n",
      " [ -1.68712769  -0.77239843   4.27696077  -1.20159038   3.10400904\n",
      "   -1.90890505  -2.14080964  -0.63607092  -1.75812655  -3.90093687]\n",
      " [ -2.26514573  -1.37050695   0.58287917   0.36030849   0.54116137\n",
      "    5.94803435  -3.13230726  -2.40123707   8.99764189   3.61570071]\n",
      " [  4.76822411  -1.54611028   0.23722157   0.62905211   5.60628069\n",
      "   -3.6500718    2.74360904  -4.81105031  -4.943971    -4.97130346]\n",
      " [ -0.07520552  -0.39208692  -3.77258217   3.9901338   -0.66842179\n",
      "    6.61148454  -3.45951435   5.28119691  -1.71701804   1.51233833]\n",
      " [  3.79710574  -1.07551678  -3.85451589   2.52355669   2.45832296\n",
      "    0.87003228   2.60128822  -3.32050641  -2.3505528   -5.88597441]\n",
      " [  3.47153585  -4.09481943  -0.20938806   3.41718841   2.92617085\n",
      "    2.91144738   0.96004761 -10.46632037  -2.56279     -4.1630758 ]\n",
      " [ -0.67856571   0.19639867   0.28323766  -2.94002595  -1.61013767\n",
      "   -1.72231545   0.26578172   6.36426456  -2.88687744  -3.88641233]\n",
      " [  1.14347766  -3.13832167  -2.39165923   0.43041028   3.10056172\n",
      "   -0.84268599   0.71159691  -5.1765377   -5.76629512  -5.0673612 ]]\n",
      "\n",
      "(10, 10)\n",
      "\n",
      "\n",
      "(5, 20)\n",
      "\n",
      "(100,)\n",
      "\n",
      "1.0\n",
      "\n",
      "3.0\n",
      "\n",
      "4\n",
      "\n",
      "[[-0.27006973 -0.00845117 -1.35536589  0.9237719   0.63379863]\n",
      " [-0.08070223 -1.23845668 -0.01668462 -0.52592547 -2.25853891]\n",
      " [-0.53410666 -0.57081837  1.32033995 -1.42002951  1.95559687]\n",
      " [ 0.61586343 -0.06949188 -0.27279024 -2.26151958  0.28038632]\n",
      " [-0.32370674 -0.54804439 -0.1365465   0.02510041 -1.35893567]]\n"
     ]
    }
   ],
   "source": [
    "M1 = np.random.randn(10, 10)    # Numpy.random.randn(a, b) creates an a*b matrix populated with random numbers.\n",
    "M2 = np.random.randn(10, 10)\n",
    "print(np.dot(M1, M2))   # Perfroms dot product of the two matrices passed.\n",
    "print()\n",
    "print(M1.shape)\n",
    "print()\n",
    "M3 = M1.reshape(5,20)    # Used to change the dimensions of matrices.\n",
    "print()\n",
    "print(M3.shape)\n",
    "print()\n",
    "M4 = M3.ravel()    # Converts any shape matrix into a column matrix.\n",
    "print(M4.shape)\n",
    "print()\n",
    "\n",
    "print(np.log(np.exp(1)))# Find the natural log of the parameter passed.\n",
    "print()\n",
    "print(np.sqrt(9))    # Find the square root of the parameter passed.\n",
    "print()\n",
    "print(np.random.randint(-5, 5))    # Provide one random number which lies in between the range specified.\n",
    "print()\n",
    "print(np.random.randn(5, 5))    # Makes an array with the dimensions mentioned, filled with random numbers. "
   ]
  }
 ],
 "metadata": {
  "kernelspec": {
   "display_name": "Python 3",
   "language": "python",
   "name": "python3"
  },
  "language_info": {
   "codemirror_mode": {
    "name": "ipython",
    "version": 3
   },
   "file_extension": ".py",
   "mimetype": "text/x-python",
   "name": "python",
   "nbconvert_exporter": "python",
   "pygments_lexer": "ipython3",
   "version": "3.5.4"
  }
 },
 "nbformat": 4,
 "nbformat_minor": 2
}
